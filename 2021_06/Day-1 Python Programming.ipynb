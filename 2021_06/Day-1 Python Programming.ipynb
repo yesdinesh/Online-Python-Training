{
 "cells": [
  {
   "cell_type": "markdown",
   "metadata": {
    "id": "Y3TzbKjNQ0n8"
   },
   "source": [
    "<h1><center> Python Programming </center></h1>\n",
    "<h1><center> presented By BigDatapedia </center></h1>\n",
    "\n",
    "    * It's a Intrepreter Language\n",
    "    * UTF-8 encode\n",
    "    * Extensive Library Support\n",
    "    * Dynamic Data Typing\n",
    "\n",
    "\n",
    "![title](./Images/how-python-interpreter-works.jpg)"
   ]
  },
  {
   "cell_type": "code",
   "execution_count": 2,
   "metadata": {
    "colab": {
     "base_uri": "https://localhost:8080/",
     "height": 195
    },
    "executionInfo": {
     "elapsed": 559,
     "status": "error",
     "timestamp": 1624240470774,
     "user": {
      "displayName": "BigDatapedia ML & DS",
      "photoUrl": "https://lh3.googleusercontent.com/a-/AOh14GiG86EyyjXJGapWDYET6ePETmiDav2UEfHkbBYv=s64",
      "userId": "16583793138061959498"
     },
     "user_tz": -330
    },
    "id": "t7FBC8ysQlcx",
    "outputId": "fc035d8a-26e2-4c51-d527-0717b96c0ad5"
   },
   "outputs": [
    {
     "name": "stdout",
     "output_type": "stream",
     "text": [
      "hello world\n"
     ]
    },
    {
     "ename": "NameError",
     "evalue": "ignored",
     "output_type": "error",
     "traceback": [
      "\u001b[0;31m---------------------------------------------------------------------------\u001b[0m",
      "\u001b[0;31mNameError\u001b[0m                                 Traceback (most recent call last)",
      "\u001b[0;32m<ipython-input-2-806a8950a567>\u001b[0m in \u001b[0;36m<module>\u001b[0;34m()\u001b[0m\n\u001b[1;32m      1\u001b[0m \u001b[0mprint\u001b[0m\u001b[0;34m(\u001b[0m\u001b[0;34m\"hello world\"\u001b[0m\u001b[0;34m)\u001b[0m\u001b[0;34m\u001b[0m\u001b[0;34m\u001b[0m\u001b[0m\n\u001b[0;32m----> 2\u001b[0;31m \u001b[0mprin\u001b[0m\u001b[0;34m(\u001b[0m\u001b[0;34m\"hello all\"\u001b[0m\u001b[0;34m)\u001b[0m\u001b[0;34m\u001b[0m\u001b[0;34m\u001b[0m\u001b[0m\n\u001b[0m",
      "\u001b[0;31mNameError\u001b[0m: name 'prin' is not defined"
     ]
    }
   ],
   "source": [
    "print(\"hello world\") # This line is executed successfully\n",
    "prin(\"hello all\")"
   ]
  },
  {
   "cell_type": "markdown",
   "metadata": {
    "id": "smf0fdm3TMg8"
   },
   "source": [
    "# Ways to Install the Python Program\n",
    "1) https://colab.research.google.com/ as a web console python ide\n",
    "\n",
    "2) Install Python.exe the use it's IDLE\n",
    "\n",
    "3) Install Anaconda package then use Python and It's packages"
   ]
  },
  {
   "cell_type": "markdown",
   "metadata": {
    "id": "jImm9v3_T1qf"
   },
   "source": [
    "## Keywords\n",
    "Reserver words by Python Program"
   ]
  },
  {
   "cell_type": "code",
   "execution_count": 4,
   "metadata": {
    "executionInfo": {
     "elapsed": 2,
     "status": "ok",
     "timestamp": 1624241066097,
     "user": {
      "displayName": "BigDatapedia ML & DS",
      "photoUrl": "https://lh3.googleusercontent.com/a-/AOh14GiG86EyyjXJGapWDYET6ePETmiDav2UEfHkbBYv=s64",
      "userId": "16583793138061959498"
     },
     "user_tz": -330
    },
    "id": "BpbgO2YZRjCT"
   },
   "outputs": [],
   "source": [
    "import keyword"
   ]
  },
  {
   "cell_type": "code",
   "execution_count": 8,
   "metadata": {
    "colab": {
     "base_uri": "https://localhost:8080/"
    },
    "executionInfo": {
     "elapsed": 715,
     "status": "ok",
     "timestamp": 1624241137400,
     "user": {
      "displayName": "BigDatapedia ML & DS",
      "photoUrl": "https://lh3.googleusercontent.com/a-/AOh14GiG86EyyjXJGapWDYET6ePETmiDav2UEfHkbBYv=s64",
      "userId": "16583793138061959498"
     },
     "user_tz": -330
    },
    "id": "-IWmX-LQT0ye",
    "outputId": "e64407a2-8c0c-43e8-a8e4-219462fe6dbc"
   },
   "outputs": [
    {
     "name": "stdout",
     "output_type": "stream",
     "text": [
      "False\n",
      "None\n",
      "True\n",
      "and\n",
      "as\n",
      "assert\n",
      "async\n",
      "await\n",
      "break\n",
      "class\n",
      "continue\n",
      "def\n",
      "del\n",
      "elif\n",
      "else\n",
      "except\n",
      "finally\n",
      "for\n",
      "from\n",
      "global\n",
      "if\n",
      "import\n",
      "in\n",
      "is\n",
      "lambda\n",
      "nonlocal\n",
      "not\n",
      "or\n",
      "pass\n",
      "raise\n",
      "return\n",
      "try\n",
      "while\n",
      "with\n",
      "yield\n"
     ]
    }
   ],
   "source": [
    "for i in keyword.kwlist: \n",
    "  print(i)\n"
   ]
  },
  {
   "cell_type": "markdown",
   "metadata": {
    "id": "jDJA5baJUY7U"
   },
   "source": [
    "## Identifiers\n",
    "All Naming details are called as identifier\n",
    "\n",
    "PEP (Python Enhancement Proposal)"
   ]
  },
  {
   "cell_type": "code",
   "execution_count": 17,
   "metadata": {
    "executionInfo": {
     "elapsed": 418,
     "status": "ok",
     "timestamp": 1624241555470,
     "user": {
      "displayName": "BigDatapedia ML & DS",
      "photoUrl": "https://lh3.googleusercontent.com/a-/AOh14GiG86EyyjXJGapWDYET6ePETmiDav2UEfHkbBYv=s64",
      "userId": "16583793138061959498"
     },
     "user_tz": -330
    },
    "id": "P7-uIMo0UBsa"
   },
   "outputs": [],
   "source": [
    "a = 10.0\n",
    "b = \"hi\"\n",
    "c = 2.5 + 7.5"
   ]
  },
  {
   "cell_type": "code",
   "execution_count": 12,
   "metadata": {
    "colab": {
     "base_uri": "https://localhost:8080/"
    },
    "executionInfo": {
     "elapsed": 697,
     "status": "ok",
     "timestamp": 1624241452300,
     "user": {
      "displayName": "BigDatapedia ML & DS",
      "photoUrl": "https://lh3.googleusercontent.com/a-/AOh14GiG86EyyjXJGapWDYET6ePETmiDav2UEfHkbBYv=s64",
      "userId": "16583793138061959498"
     },
     "user_tz": -330
    },
    "id": "PAGl7YzgVKfQ",
    "outputId": "be54603b-19b8-48d3-d33c-715d15dc7b87"
   },
   "outputs": [
    {
     "name": "stdout",
     "output_type": "stream",
     "text": [
      "<class 'int'>\n",
      "<class 'str'>\n"
     ]
    }
   ],
   "source": [
    "print(type(a))\n",
    "print(type(b))"
   ]
  },
  {
   "cell_type": "code",
   "execution_count": 16,
   "metadata": {
    "colab": {
     "base_uri": "https://localhost:8080/"
    },
    "executionInfo": {
     "elapsed": 404,
     "status": "ok",
     "timestamp": 1624241511701,
     "user": {
      "displayName": "BigDatapedia ML & DS",
      "photoUrl": "https://lh3.googleusercontent.com/a-/AOh14GiG86EyyjXJGapWDYET6ePETmiDav2UEfHkbBYv=s64",
      "userId": "16583793138061959498"
     },
     "user_tz": -330
    },
    "id": "P292zXXSVMNB",
    "outputId": "fe5994af-2c84-40b7-938f-e7379b1a7f2e"
   },
   "outputs": [
    {
     "name": "stdout",
     "output_type": "stream",
     "text": [
      "30.0 <class 'float'>\n",
      "hi <class 'str'>\n"
     ]
    }
   ],
   "source": [
    "a = a + 10\n",
    "print(a ,type(a))\n",
    "print(b, type(b))"
   ]
  },
  {
   "cell_type": "code",
   "execution_count": 20,
   "metadata": {
    "colab": {
     "base_uri": "https://localhost:8080/"
    },
    "executionInfo": {
     "elapsed": 4,
     "status": "ok",
     "timestamp": 1624241634963,
     "user": {
      "displayName": "BigDatapedia ML & DS",
      "photoUrl": "https://lh3.googleusercontent.com/a-/AOh14GiG86EyyjXJGapWDYET6ePETmiDav2UEfHkbBYv=s64",
      "userId": "16583793138061959498"
     },
     "user_tz": -330
    },
    "id": "_X1TBnV6VfDT",
    "outputId": "4ce44b79-71bb-4c5d-838e-351ede1d6231"
   },
   "outputs": [
    {
     "name": "stdout",
     "output_type": "stream",
     "text": [
      "139745230018928 10.0\n"
     ]
    }
   ],
   "source": [
    "print(id(a), a)"
   ]
  },
  {
   "cell_type": "code",
   "execution_count": 21,
   "metadata": {
    "colab": {
     "base_uri": "https://localhost:8080/"
    },
    "executionInfo": {
     "elapsed": 4,
     "status": "ok",
     "timestamp": 1624241639164,
     "user": {
      "displayName": "BigDatapedia ML & DS",
      "photoUrl": "https://lh3.googleusercontent.com/a-/AOh14GiG86EyyjXJGapWDYET6ePETmiDav2UEfHkbBYv=s64",
      "userId": "16583793138061959498"
     },
     "user_tz": -330
    },
    "id": "dpKffKNwV6tx",
    "outputId": "80618b7f-a37e-48c5-ad81-f8e402efa35a"
   },
   "outputs": [
    {
     "name": "stdout",
     "output_type": "stream",
     "text": [
      "139745230019792 10.0\n"
     ]
    }
   ],
   "source": [
    "print(id(c), c)"
   ]
  },
  {
   "cell_type": "code",
   "execution_count": 24,
   "metadata": {
    "colab": {
     "base_uri": "https://localhost:8080/"
    },
    "executionInfo": {
     "elapsed": 431,
     "status": "ok",
     "timestamp": 1624241883291,
     "user": {
      "displayName": "BigDatapedia ML & DS",
      "photoUrl": "https://lh3.googleusercontent.com/a-/AOh14GiG86EyyjXJGapWDYET6ePETmiDav2UEfHkbBYv=s64",
      "userId": "16583793138061959498"
     },
     "user_tz": -330
    },
    "id": "dpqD8IXHWEu0",
    "outputId": "f922e4ad-37e1-4bbd-a793-b5f1f8aa3b0d"
   },
   "outputs": [
    {
     "name": "stdout",
     "output_type": "stream",
     "text": [
      "94770572389152 10\n",
      "94770572389152 10\n"
     ]
    }
   ],
   "source": [
    "a = 10 \n",
    "b = 10 \n",
    "print(id(a), a)\n",
    "print(id(b), b)"
   ]
  },
  {
   "cell_type": "code",
   "execution_count": 27,
   "metadata": {
    "colab": {
     "base_uri": "https://localhost:8080/"
    },
    "executionInfo": {
     "elapsed": 410,
     "status": "ok",
     "timestamp": 1624241919881,
     "user": {
      "displayName": "BigDatapedia ML & DS",
      "photoUrl": "https://lh3.googleusercontent.com/a-/AOh14GiG86EyyjXJGapWDYET6ePETmiDav2UEfHkbBYv=s64",
      "userId": "16583793138061959498"
     },
     "user_tz": -330
    },
    "id": "0-LGd5OWWn0f",
    "outputId": "ada2e2f7-dfed-481a-d1b8-27370532d95e"
   },
   "outputs": [
    {
     "name": "stdout",
     "output_type": "stream",
     "text": [
      "94770572389152 10\n"
     ]
    }
   ],
   "source": [
    "c = 2 + 8\n",
    "print(id(c), c)"
   ]
  },
  {
   "cell_type": "markdown",
   "metadata": {
    "id": "cvm75_gnXTkW"
   },
   "source": [
    "### Control Statement"
   ]
  },
  {
   "cell_type": "code",
   "execution_count": 28,
   "metadata": {
    "colab": {
     "base_uri": "https://localhost:8080/"
    },
    "executionInfo": {
     "elapsed": 462,
     "status": "ok",
     "timestamp": 1624241987055,
     "user": {
      "displayName": "BigDatapedia ML & DS",
      "photoUrl": "https://lh3.googleusercontent.com/a-/AOh14GiG86EyyjXJGapWDYET6ePETmiDav2UEfHkbBYv=s64",
      "userId": "16583793138061959498"
     },
     "user_tz": -330
    },
    "id": "mxRhMnRoXCK4",
    "outputId": "c8eb39b1-5dfc-4ea3-d54e-67768a15d198"
   },
   "outputs": [
    {
     "name": "stdout",
     "output_type": "stream",
     "text": [
      "bye\n"
     ]
    }
   ],
   "source": [
    "# IF\n",
    "x = 10\n",
    "if x < 10:\n",
    "  print(\"hi\")\n",
    "else:\n",
    "  print(\"bye\")"
   ]
  },
  {
   "cell_type": "code",
   "execution_count": 29,
   "metadata": {
    "colab": {
     "base_uri": "https://localhost:8080/"
    },
    "executionInfo": {
     "elapsed": 429,
     "status": "ok",
     "timestamp": 1624242002129,
     "user": {
      "displayName": "BigDatapedia ML & DS",
      "photoUrl": "https://lh3.googleusercontent.com/a-/AOh14GiG86EyyjXJGapWDYET6ePETmiDav2UEfHkbBYv=s64",
      "userId": "16583793138061959498"
     },
     "user_tz": -330
    },
    "id": "RkOLcjxRXdmI",
    "outputId": "b33154f9-818a-47e9-f927-e1ea32cbcdeb"
   },
   "outputs": [
    {
     "name": "stdout",
     "output_type": "stream",
     "text": [
      "hi\n"
     ]
    }
   ],
   "source": [
    "# IF\n",
    "x = 8\n",
    "if x < 10:\n",
    "  print(\"hi\")\n",
    "else:\n",
    "  print(\"bye\")"
   ]
  },
  {
   "cell_type": "code",
   "execution_count": 33,
   "metadata": {
    "colab": {
     "base_uri": "https://localhost:8080/"
    },
    "executionInfo": {
     "elapsed": 416,
     "status": "ok",
     "timestamp": 1624242142027,
     "user": {
      "displayName": "BigDatapedia ML & DS",
      "photoUrl": "https://lh3.googleusercontent.com/a-/AOh14GiG86EyyjXJGapWDYET6ePETmiDav2UEfHkbBYv=s64",
      "userId": "16583793138061959498"
     },
     "user_tz": -330
    },
    "id": "Sw-1_RlyXhSL",
    "outputId": "a6664a8e-4725-49b2-dd18-49839a9b8765"
   },
   "outputs": [
    {
     "name": "stdout",
     "output_type": "stream",
     "text": [
      "bye\n"
     ]
    }
   ],
   "source": [
    "# IF and Else\n",
    "x = 12\n",
    "if x < 10:   # 11 < 10\n",
    "  print(\"hi\")\n",
    "elif x==11:\n",
    "  print(\"hi\", x)\n",
    "else:\n",
    "  print(\"bye\")"
   ]
  },
  {
   "cell_type": "markdown",
   "metadata": {
    "id": "1d7wKXD8YynO"
   },
   "source": [
    "### Looping\n",
    "#### For\n",
    "#### While"
   ]
  },
  {
   "cell_type": "code",
   "execution_count": 37,
   "metadata": {
    "colab": {
     "base_uri": "https://localhost:8080/"
    },
    "executionInfo": {
     "elapsed": 4,
     "status": "ok",
     "timestamp": 1624242373330,
     "user": {
      "displayName": "BigDatapedia ML & DS",
      "photoUrl": "https://lh3.googleusercontent.com/a-/AOh14GiG86EyyjXJGapWDYET6ePETmiDav2UEfHkbBYv=s64",
      "userId": "16583793138061959498"
     },
     "user_tz": -330
    },
    "id": "JWBDtuerY3jf",
    "outputId": "d22bfb0d-1afc-49b6-abd5-38120e1044cb"
   },
   "outputs": [
    {
     "name": "stdout",
     "output_type": "stream",
     "text": [
      "1\n",
      "2\n",
      "3\n",
      "4\n",
      "5\n",
      "6\n",
      "7\n",
      "8\n",
      "9\n"
     ]
    }
   ],
   "source": [
    "for i in range(1,10):\n",
    "  print(i)"
   ]
  },
  {
   "cell_type": "code",
   "execution_count": 38,
   "metadata": {
    "colab": {
     "base_uri": "https://localhost:8080/"
    },
    "executionInfo": {
     "elapsed": 422,
     "status": "ok",
     "timestamp": 1624242405180,
     "user": {
      "displayName": "BigDatapedia ML & DS",
      "photoUrl": "https://lh3.googleusercontent.com/a-/AOh14GiG86EyyjXJGapWDYET6ePETmiDav2UEfHkbBYv=s64",
      "userId": "16583793138061959498"
     },
     "user_tz": -330
    },
    "id": "Lu20vGX-Y7-p",
    "outputId": "489b1c85-c37c-4317-b9dd-0d22518a247f"
   },
   "outputs": [
    {
     "name": "stdout",
     "output_type": "stream",
     "text": [
      "1\n",
      "2\n",
      "3\n",
      "4\n",
      "5\n",
      "6\n",
      "7\n",
      "8\n",
      "9\n",
      "else 9\n"
     ]
    }
   ],
   "source": [
    "for i in range(1,10):\n",
    "  print(i)\n",
    "else:\n",
    "  print(\"else\", i)"
   ]
  },
  {
   "cell_type": "markdown",
   "metadata": {
    "id": "yahogZW5Ze7T"
   },
   "source": [
    "### while\n"
   ]
  },
  {
   "cell_type": "code",
   "execution_count": 39,
   "metadata": {
    "colab": {
     "base_uri": "https://localhost:8080/",
     "height": 462
    },
    "executionInfo": {
     "elapsed": 16607,
     "status": "error",
     "timestamp": 1624243006595,
     "user": {
      "displayName": "BigDatapedia ML & DS",
      "photoUrl": "https://lh3.googleusercontent.com/a-/AOh14GiG86EyyjXJGapWDYET6ePETmiDav2UEfHkbBYv=s64",
      "userId": "16583793138061959498"
     },
     "user_tz": -330
    },
    "id": "pM1m3UUnaUWm",
    "outputId": "d8da9875-ba79-4dd0-e572-e35eba5a2dcc"
   },
   "outputs": [
    {
     "name": "stdout",
     "output_type": "stream",
     "text": [
      "Hi\n",
      "Hi\n",
      "Hi\n",
      "Hi\n",
      "Hi\n",
      "Hi\n",
      "Hi\n",
      "Hi\n",
      "Hi\n",
      "Hi\n",
      "Hi\n",
      "Hi\n",
      "Hi\n",
      "Hi\n",
      "Hi\n",
      "Hi\n"
     ]
    },
    {
     "ename": "KeyboardInterrupt",
     "evalue": "ignored",
     "output_type": "error",
     "traceback": [
      "\u001b[0;31m---------------------------------------------------------------------------\u001b[0m",
      "\u001b[0;31mKeyboardInterrupt\u001b[0m                         Traceback (most recent call last)",
      "\u001b[0;32m<ipython-input-39-6021169ead19>\u001b[0m in \u001b[0;36m<module>\u001b[0;34m()\u001b[0m\n\u001b[1;32m      3\u001b[0m \u001b[0;32mwhile\u001b[0m \u001b[0;32mTrue\u001b[0m\u001b[0;34m:\u001b[0m \u001b[0;31m# Unlimited Loop\u001b[0m\u001b[0;34m\u001b[0m\u001b[0;34m\u001b[0m\u001b[0m\n\u001b[1;32m      4\u001b[0m   \u001b[0mprint\u001b[0m\u001b[0;34m(\u001b[0m\u001b[0;34m\"Hi\"\u001b[0m\u001b[0;34m)\u001b[0m\u001b[0;34m\u001b[0m\u001b[0;34m\u001b[0m\u001b[0m\n\u001b[0;32m----> 5\u001b[0;31m   \u001b[0mtime\u001b[0m\u001b[0;34m.\u001b[0m\u001b[0msleep\u001b[0m\u001b[0;34m(\u001b[0m\u001b[0;36m1\u001b[0m\u001b[0;34m)\u001b[0m\u001b[0;34m\u001b[0m\u001b[0;34m\u001b[0m\u001b[0m\n\u001b[0m",
      "\u001b[0;31mKeyboardInterrupt\u001b[0m: "
     ]
    }
   ],
   "source": [
    "import time\n",
    "\n",
    "while True: # Unlimited Interation\n",
    "  print(\"Hi\")\n",
    "  time.sleep(1)"
   ]
  },
  {
   "cell_type": "markdown",
   "metadata": {
    "id": "M88u_Cb0YaRV"
   },
   "source": [
    "### Indentation"
   ]
  },
  {
   "cell_type": "code",
   "execution_count": 35,
   "metadata": {
    "colab": {
     "base_uri": "https://localhost:8080/"
    },
    "executionInfo": {
     "elapsed": 693,
     "status": "ok",
     "timestamp": 1624242260609,
     "user": {
      "displayName": "BigDatapedia ML & DS",
      "photoUrl": "https://lh3.googleusercontent.com/a-/AOh14GiG86EyyjXJGapWDYET6ePETmiDav2UEfHkbBYv=s64",
      "userId": "16583793138061959498"
     },
     "user_tz": -330
    },
    "id": "MDHAe1haXqNc",
    "outputId": "05bb520d-30a9-4207-ad1d-5cbb0df2a636"
   },
   "outputs": [
    {
     "name": "stdout",
     "output_type": "stream",
     "text": [
      "Hi\n"
     ]
    }
   ],
   "source": [
    "x = 7\n",
    "if x < 10:\n",
    "  print(\"Hi\")"
   ]
  },
  {
   "cell_type": "code",
   "execution_count": 36,
   "metadata": {
    "colab": {
     "base_uri": "https://localhost:8080/",
     "height": 128
    },
    "executionInfo": {
     "elapsed": 419,
     "status": "error",
     "timestamp": 1624242268513,
     "user": {
      "displayName": "BigDatapedia ML & DS",
      "photoUrl": "https://lh3.googleusercontent.com/a-/AOh14GiG86EyyjXJGapWDYET6ePETmiDav2UEfHkbBYv=s64",
      "userId": "16583793138061959498"
     },
     "user_tz": -330
    },
    "id": "3wHkccwvYgUi",
    "outputId": "d96d2774-2a16-4b8f-856e-c6b135c2723a"
   },
   "outputs": [
    {
     "ename": "IndentationError",
     "evalue": "ignored",
     "output_type": "error",
     "traceback": [
      "\u001b[0;36m  File \u001b[0;32m\"<ipython-input-36-376c44bd4905>\"\u001b[0;36m, line \u001b[0;32m3\u001b[0m\n\u001b[0;31m    print(\"Hi\")\u001b[0m\n\u001b[0m        ^\u001b[0m\n\u001b[0;31mIndentationError\u001b[0m\u001b[0;31m:\u001b[0m expected an indented block\n"
     ]
    }
   ],
   "source": [
    "x = 7\n",
    "if x < 10:\n",
    "print(\"Hi\")"
   ]
  },
  {
   "cell_type": "code",
   "execution_count": null,
   "metadata": {
    "id": "c1ZlYeeOYiUM"
   },
   "outputs": [],
   "source": []
  },
  {
   "cell_type": "markdown",
   "metadata": {
    "id": "BZ61qb26boqP"
   },
   "source": [
    "### Sring Slicing"
   ]
  },
  {
   "cell_type": "code",
   "execution_count": 45,
   "metadata": {
    "colab": {
     "base_uri": "https://localhost:8080/"
    },
    "executionInfo": {
     "elapsed": 435,
     "status": "ok",
     "timestamp": 1624243238543,
     "user": {
      "displayName": "BigDatapedia ML & DS",
      "photoUrl": "https://lh3.googleusercontent.com/a-/AOh14GiG86EyyjXJGapWDYET6ePETmiDav2UEfHkbBYv=s64",
      "userId": "16583793138061959498"
     },
     "user_tz": -330
    },
    "id": "F24owdBjbqNy",
    "outputId": "164eb3b4-ac84-401f-bb1f-e784ce1a274a"
   },
   "outputs": [
    {
     "name": "stdout",
     "output_type": "stream",
     "text": [
      "Hello Python\n"
     ]
    }
   ],
   "source": [
    "x = \"Hello Python\" # \n",
    "print(x)"
   ]
  },
  {
   "cell_type": "code",
   "execution_count": 46,
   "metadata": {
    "colab": {
     "base_uri": "https://localhost:8080/"
    },
    "executionInfo": {
     "elapsed": 439,
     "status": "ok",
     "timestamp": 1624243241277,
     "user": {
      "displayName": "BigDatapedia ML & DS",
      "photoUrl": "https://lh3.googleusercontent.com/a-/AOh14GiG86EyyjXJGapWDYET6ePETmiDav2UEfHkbBYv=s64",
      "userId": "16583793138061959498"
     },
     "user_tz": -330
    },
    "id": "6C3SR8p2bwhx",
    "outputId": "fa7ebb5f-0afa-47f9-f49d-8f202d58204c"
   },
   "outputs": [
    {
     "name": "stdout",
     "output_type": "stream",
     "text": [
      "H\n",
      "e\n",
      "l\n",
      "l\n",
      "o\n",
      " \n",
      "P\n",
      "y\n",
      "t\n",
      "h\n",
      "o\n",
      "n\n"
     ]
    }
   ],
   "source": [
    "for i in x:\n",
    "  print(i)"
   ]
  },
  {
   "cell_type": "code",
   "execution_count": 52,
   "metadata": {
    "colab": {
     "base_uri": "https://localhost:8080/",
     "height": 35
    },
    "executionInfo": {
     "elapsed": 408,
     "status": "ok",
     "timestamp": 1624243388554,
     "user": {
      "displayName": "BigDatapedia ML & DS",
      "photoUrl": "https://lh3.googleusercontent.com/a-/AOh14GiG86EyyjXJGapWDYET6ePETmiDav2UEfHkbBYv=s64",
      "userId": "16583793138061959498"
     },
     "user_tz": -330
    },
    "id": "N9W4XPyDcCW8",
    "outputId": "fa582ab4-54c5-440d-8fe6-9c982585d3fc"
   },
   "outputs": [
    {
     "data": {
      "application/vnd.google.colaboratory.intrinsic+json": {
       "type": "string"
      },
      "text/plain": [
       "'Python'"
      ]
     },
     "execution_count": 52,
     "metadata": {
      "tags": []
     },
     "output_type": "execute_result"
    }
   ],
   "source": [
    "x[6:]"
   ]
  },
  {
   "cell_type": "code",
   "execution_count": 53,
   "metadata": {
    "colab": {
     "base_uri": "https://localhost:8080/",
     "height": 35
    },
    "executionInfo": {
     "elapsed": 410,
     "status": "ok",
     "timestamp": 1624243394117,
     "user": {
      "displayName": "BigDatapedia ML & DS",
      "photoUrl": "https://lh3.googleusercontent.com/a-/AOh14GiG86EyyjXJGapWDYET6ePETmiDav2UEfHkbBYv=s64",
      "userId": "16583793138061959498"
     },
     "user_tz": -330
    },
    "id": "zim6G1PzczxU",
    "outputId": "5f9b0acc-9803-4c98-aa3b-93fc73e6316c"
   },
   "outputs": [
    {
     "data": {
      "application/vnd.google.colaboratory.intrinsic+json": {
       "type": "string"
      },
      "text/plain": [
       "'Py'"
      ]
     },
     "execution_count": 53,
     "metadata": {
      "tags": []
     },
     "output_type": "execute_result"
    }
   ],
   "source": [
    "x[6:8]"
   ]
  },
  {
   "cell_type": "code",
   "execution_count": 51,
   "metadata": {
    "colab": {
     "base_uri": "https://localhost:8080/",
     "height": 35
    },
    "executionInfo": {
     "elapsed": 692,
     "status": "ok",
     "timestamp": 1624243365771,
     "user": {
      "displayName": "BigDatapedia ML & DS",
      "photoUrl": "https://lh3.googleusercontent.com/a-/AOh14GiG86EyyjXJGapWDYET6ePETmiDav2UEfHkbBYv=s64",
      "userId": "16583793138061959498"
     },
     "user_tz": -330
    },
    "id": "Cm_cQN7RcFHI",
    "outputId": "667163ec-ad01-4c6a-b58b-a8ab940fa4f8"
   },
   "outputs": [
    {
     "data": {
      "application/vnd.google.colaboratory.intrinsic+json": {
       "type": "string"
      },
      "text/plain": [
       "'Python'"
      ]
     },
     "execution_count": 51,
     "metadata": {
      "tags": []
     },
     "output_type": "execute_result"
    }
   ],
   "source": [
    "x[-6:]"
   ]
  },
  {
   "cell_type": "code",
   "execution_count": 54,
   "metadata": {
    "colab": {
     "base_uri": "https://localhost:8080/",
     "height": 35
    },
    "executionInfo": {
     "elapsed": 399,
     "status": "ok",
     "timestamp": 1624243410957,
     "user": {
      "displayName": "BigDatapedia ML & DS",
      "photoUrl": "https://lh3.googleusercontent.com/a-/AOh14GiG86EyyjXJGapWDYET6ePETmiDav2UEfHkbBYv=s64",
      "userId": "16583793138061959498"
     },
     "user_tz": -330
    },
    "id": "biImxOh7clua",
    "outputId": "168c6347-d25a-41cc-d413-578a529c6ca4"
   },
   "outputs": [
    {
     "data": {
      "application/vnd.google.colaboratory.intrinsic+json": {
       "type": "string"
      },
      "text/plain": [
       "'Py'"
      ]
     },
     "execution_count": 54,
     "metadata": {
      "tags": []
     },
     "output_type": "execute_result"
    }
   ],
   "source": [
    "x[-6:-4]"
   ]
  },
  {
   "cell_type": "code",
   "execution_count": 55,
   "metadata": {
    "colab": {
     "base_uri": "https://localhost:8080/",
     "height": 35
    },
    "executionInfo": {
     "elapsed": 458,
     "status": "ok",
     "timestamp": 1624243712864,
     "user": {
      "displayName": "BigDatapedia ML & DS",
      "photoUrl": "https://lh3.googleusercontent.com/a-/AOh14GiG86EyyjXJGapWDYET6ePETmiDav2UEfHkbBYv=s64",
      "userId": "16583793138061959498"
     },
     "user_tz": -330
    },
    "id": "JX3sPXwlc5PW",
    "outputId": "59094212-c749-4194-e8f6-93dd0a1d74a3"
   },
   "outputs": [
    {
     "data": {
      "application/vnd.google.colaboratory.intrinsic+json": {
       "type": "string"
      },
      "text/plain": [
       "'Python'"
      ]
     },
     "execution_count": 55,
     "metadata": {
      "tags": []
     },
     "output_type": "execute_result"
    }
   ],
   "source": [
    "x[-6:]"
   ]
  },
  {
   "cell_type": "code",
   "execution_count": 56,
   "metadata": {
    "colab": {
     "base_uri": "https://localhost:8080/",
     "height": 35
    },
    "executionInfo": {
     "elapsed": 3,
     "status": "ok",
     "timestamp": 1624243760682,
     "user": {
      "displayName": "BigDatapedia ML & DS",
      "photoUrl": "https://lh3.googleusercontent.com/a-/AOh14GiG86EyyjXJGapWDYET6ePETmiDav2UEfHkbBYv=s64",
      "userId": "16583793138061959498"
     },
     "user_tz": -330
    },
    "id": "D7YtrO-ueC7n",
    "outputId": "5f5dc6c3-ddab-4ccc-e901-d851202e733e"
   },
   "outputs": [
    {
     "data": {
      "application/vnd.google.colaboratory.intrinsic+json": {
       "type": "string"
      },
      "text/plain": [
       "'Hello '"
      ]
     },
     "execution_count": 56,
     "metadata": {
      "tags": []
     },
     "output_type": "execute_result"
    }
   ],
   "source": [
    "x[:-6]"
   ]
  },
  {
   "cell_type": "code",
   "execution_count": 57,
   "metadata": {
    "colab": {
     "base_uri": "https://localhost:8080/",
     "height": 35
    },
    "executionInfo": {
     "elapsed": 436,
     "status": "ok",
     "timestamp": 1624243799416,
     "user": {
      "displayName": "BigDatapedia ML & DS",
      "photoUrl": "https://lh3.googleusercontent.com/a-/AOh14GiG86EyyjXJGapWDYET6ePETmiDav2UEfHkbBYv=s64",
      "userId": "16583793138061959498"
     },
     "user_tz": -330
    },
    "id": "ScaQutGUeOsA",
    "outputId": "b848ba8c-66a5-4c17-8ac3-b7a822364e54"
   },
   "outputs": [
    {
     "data": {
      "application/vnd.google.colaboratory.intrinsic+json": {
       "type": "string"
      },
      "text/plain": [
       "'Hello'"
      ]
     },
     "execution_count": 57,
     "metadata": {
      "tags": []
     },
     "output_type": "execute_result"
    }
   ],
   "source": [
    "x[0:5]"
   ]
  },
  {
   "cell_type": "code",
   "execution_count": 59,
   "metadata": {
    "colab": {
     "base_uri": "https://localhost:8080/",
     "height": 35
    },
    "executionInfo": {
     "elapsed": 406,
     "status": "ok",
     "timestamp": 1624243829872,
     "user": {
      "displayName": "BigDatapedia ML & DS",
      "photoUrl": "https://lh3.googleusercontent.com/a-/AOh14GiG86EyyjXJGapWDYET6ePETmiDav2UEfHkbBYv=s64",
      "userId": "16583793138061959498"
     },
     "user_tz": -330
    },
    "id": "wKxU1u_ueYEk",
    "outputId": "c874d661-9708-41f9-902d-212a5e6653c7"
   },
   "outputs": [
    {
     "data": {
      "application/vnd.google.colaboratory.intrinsic+json": {
       "type": "string"
      },
      "text/plain": [
       "' Pyth'"
      ]
     },
     "execution_count": 59,
     "metadata": {
      "tags": []
     },
     "output_type": "execute_result"
    }
   ],
   "source": [
    "x[5:10]"
   ]
  },
  {
   "cell_type": "code",
   "execution_count": null,
   "metadata": {
    "id": "P0bSmc96ex4W"
   },
   "outputs": [],
   "source": []
  },
  {
   "cell_type": "markdown",
   "metadata": {
    "id": "gHMeO7QGfGET"
   },
   "source": [
    "# Collection\n",
    "### List\n",
    "### Tuple\n",
    "### Dict\n",
    "### Set"
   ]
  },
  {
   "cell_type": "code",
   "execution_count": null,
   "metadata": {
    "id": "NnIUyvvefK8H"
   },
   "outputs": [],
   "source": []
  }
 ],
 "metadata": {
  "colab": {
   "authorship_tag": "ABX9TyMP330+/ufHoRF/z6Ti92ty",
   "collapsed_sections": [],
   "name": "Day-1 Python Programming.ipynb",
   "provenance": []
  },
  "kernelspec": {
   "display_name": "Python 3",
   "language": "python",
   "name": "python3"
  },
  "language_info": {
   "codemirror_mode": {
    "name": "ipython",
    "version": 3
   },
   "file_extension": ".py",
   "mimetype": "text/x-python",
   "name": "python",
   "nbconvert_exporter": "python",
   "pygments_lexer": "ipython3",
   "version": "3.7.6"
  }
 },
 "nbformat": 4,
 "nbformat_minor": 1
}
