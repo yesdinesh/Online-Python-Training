{
  "nbformat": 4,
  "nbformat_minor": 0,
  "metadata": {
    "colab": {
      "name": "Day-2 Python Collections.ipynb",
      "provenance": [],
      "collapsed_sections": []
    },
    "kernelspec": {
      "name": "python3",
      "display_name": "Python 3"
    },
    "language_info": {
      "name": "python"
    }
  },
  "cells": [
    {
      "cell_type": "markdown",
      "metadata": {
        "id": "I129Ef8_ajiP"
      },
      "source": [
        "# Python Collections\n",
        "### List\n",
        "### Tuple\n",
        "### Dictionary\n",
        "### Set"
      ]
    },
    {
      "cell_type": "markdown",
      "metadata": {
        "id": "UQLMHFy3awhH"
      },
      "source": [
        "## List\n",
        "   Declare as [] or list()\n",
        "\n",
        "   Index based we can read the element eg..li[0]\n",
        "\n",
        "   Mutable (change)"
      ]
    },
    {
      "cell_type": "markdown",
      "metadata": {
        "id": "IdDAczlMoMHE"
      },
      "source": [
        "### Declare"
      ]
    },
    {
      "cell_type": "code",
      "metadata": {
        "id": "i1dToW0NadNa"
      },
      "source": [
        "li = [1,2,3,4]"
      ],
      "execution_count": 1,
      "outputs": []
    },
    {
      "cell_type": "code",
      "metadata": {
        "colab": {
          "base_uri": "https://localhost:8080/"
        },
        "id": "NGV-G5nGbBxE",
        "outputId": "b172bd15-07ff-4fb3-e656-6c061f796bef"
      },
      "source": [
        "type(li)"
      ],
      "execution_count": 2,
      "outputs": [
        {
          "output_type": "execute_result",
          "data": {
            "text/plain": [
              "list"
            ]
          },
          "metadata": {
            "tags": []
          },
          "execution_count": 2
        }
      ]
    },
    {
      "cell_type": "code",
      "metadata": {
        "colab": {
          "base_uri": "https://localhost:8080/"
        },
        "id": "80eQrGKdbGhl",
        "outputId": "0206e4c4-650f-4082-8382-3ccc2bf1640d"
      },
      "source": [
        "li[0]"
      ],
      "execution_count": 3,
      "outputs": [
        {
          "output_type": "execute_result",
          "data": {
            "text/plain": [
              "1"
            ]
          },
          "metadata": {
            "tags": []
          },
          "execution_count": 3
        }
      ]
    },
    {
      "cell_type": "code",
      "metadata": {
        "colab": {
          "base_uri": "https://localhost:8080/"
        },
        "id": "lUDlDtB9bJ7E",
        "outputId": "b1aa92c2-f2a2-45f3-8e74-c32d7487aebf"
      },
      "source": [
        "li[-1]"
      ],
      "execution_count": 4,
      "outputs": [
        {
          "output_type": "execute_result",
          "data": {
            "text/plain": [
              "4"
            ]
          },
          "metadata": {
            "tags": []
          },
          "execution_count": 4
        }
      ]
    },
    {
      "cell_type": "code",
      "metadata": {
        "colab": {
          "base_uri": "https://localhost:8080/"
        },
        "id": "kUhVGBfybQB5",
        "outputId": "ef19475b-5129-40f0-ed47-1eb2102dd6d3"
      },
      "source": [
        "li[2:]"
      ],
      "execution_count": 5,
      "outputs": [
        {
          "output_type": "execute_result",
          "data": {
            "text/plain": [
              "[3, 4]"
            ]
          },
          "metadata": {
            "tags": []
          },
          "execution_count": 5
        }
      ]
    },
    {
      "cell_type": "markdown",
      "metadata": {
        "id": "ECA1ua-DoPUS"
      },
      "source": [
        "### Memory allocation"
      ]
    },
    {
      "cell_type": "code",
      "metadata": {
        "colab": {
          "base_uri": "https://localhost:8080/"
        },
        "id": "sjfM1bRZbrOA",
        "outputId": "287f7c97-4a8e-4ef2-b6ac-01b40ccec28f"
      },
      "source": [
        "li1 = []\n",
        "li1.__sizeof__()"
      ],
      "execution_count": 22,
      "outputs": [
        {
          "output_type": "execute_result",
          "data": {
            "text/plain": [
              "40"
            ]
          },
          "metadata": {
            "tags": []
          },
          "execution_count": 22
        }
      ]
    },
    {
      "cell_type": "code",
      "metadata": {
        "id": "OD3S9koDcHla"
      },
      "source": [
        ""
      ],
      "execution_count": 22,
      "outputs": []
    },
    {
      "cell_type": "markdown",
      "metadata": {
        "id": "rwMk6B1hok7n"
      },
      "source": [
        "### Append a element"
      ]
    },
    {
      "cell_type": "code",
      "metadata": {
        "colab": {
          "base_uri": "https://localhost:8080/"
        },
        "id": "npuBn8ngcY6d",
        "outputId": "71706cbf-7d96-4738-ba02-9a78312d98cd"
      },
      "source": [
        "li1.append(\"a\")\n",
        "print(li1)\n",
        "print(li1.__sizeof__())"
      ],
      "execution_count": 23,
      "outputs": [
        {
          "output_type": "stream",
          "text": [
            "['a']\n",
            "72\n"
          ],
          "name": "stdout"
        }
      ]
    },
    {
      "cell_type": "code",
      "metadata": {
        "colab": {
          "base_uri": "https://localhost:8080/"
        },
        "id": "OcGThclOcdgP",
        "outputId": "5a86aa4f-7f07-45da-ef62-75b5d4103f39"
      },
      "source": [
        "li1.append(\"b\")\n",
        "print(li1)\n",
        "print(li1.__sizeof__())"
      ],
      "execution_count": 24,
      "outputs": [
        {
          "output_type": "stream",
          "text": [
            "['a', 'b']\n",
            "72\n"
          ],
          "name": "stdout"
        }
      ]
    },
    {
      "cell_type": "code",
      "metadata": {
        "colab": {
          "base_uri": "https://localhost:8080/"
        },
        "id": "NngUzRspdNmC",
        "outputId": "6561ca77-4c63-4056-d0cb-a2170766d86e"
      },
      "source": [
        "li1.append(\"c\")\n",
        "print(li1)\n",
        "print(li1.__sizeof__())"
      ],
      "execution_count": 25,
      "outputs": [
        {
          "output_type": "stream",
          "text": [
            "['a', 'b', 'c']\n",
            "72\n"
          ],
          "name": "stdout"
        }
      ]
    },
    {
      "cell_type": "code",
      "metadata": {
        "colab": {
          "base_uri": "https://localhost:8080/"
        },
        "id": "MGITc8sfdRxg",
        "outputId": "56cda9ed-498c-4e1e-c8ad-2c6a313d36bd"
      },
      "source": [
        "li1.append(\"d\")\n",
        "print(li1)\n",
        "print(li1.__sizeof__())"
      ],
      "execution_count": 26,
      "outputs": [
        {
          "output_type": "stream",
          "text": [
            "['a', 'b', 'c', 'd']\n",
            "72\n"
          ],
          "name": "stdout"
        }
      ]
    },
    {
      "cell_type": "code",
      "metadata": {
        "colab": {
          "base_uri": "https://localhost:8080/"
        },
        "id": "Fg1IfwfmdaRN",
        "outputId": "0983ac85-ca2f-44cc-c459-4a116fea92db"
      },
      "source": [
        "li1.append(\"e\")\n",
        "print(li1)\n",
        "print(li1.__sizeof__())"
      ],
      "execution_count": 27,
      "outputs": [
        {
          "output_type": "stream",
          "text": [
            "['a', 'b', 'c', 'd', 'e']\n",
            "104\n"
          ],
          "name": "stdout"
        }
      ]
    },
    {
      "cell_type": "code",
      "metadata": {
        "colab": {
          "base_uri": "https://localhost:8080/"
        },
        "id": "4SQP3biZd3GM",
        "outputId": "e33c20fe-7942-466b-9b03-3b9823b16095"
      },
      "source": [
        "li1.append(\"f\")\n",
        "print(li1)\n",
        "print(li1.__sizeof__())"
      ],
      "execution_count": 28,
      "outputs": [
        {
          "output_type": "stream",
          "text": [
            "['a', 'b', 'c', 'd', 'e', 'f']\n",
            "104\n"
          ],
          "name": "stdout"
        }
      ]
    },
    {
      "cell_type": "code",
      "metadata": {
        "colab": {
          "base_uri": "https://localhost:8080/"
        },
        "id": "BpajTGqmeEfA",
        "outputId": "9b8041c8-d417-4d34-bf23-e2f2626d11a9"
      },
      "source": [
        "li1.append(7)\n",
        "print(li1)\n",
        "print(li1.__sizeof__())"
      ],
      "execution_count": 29,
      "outputs": [
        {
          "output_type": "stream",
          "text": [
            "['a', 'b', 'c', 'd', 'e', 'f', 7]\n",
            "104\n"
          ],
          "name": "stdout"
        }
      ]
    },
    {
      "cell_type": "code",
      "metadata": {
        "colab": {
          "base_uri": "https://localhost:8080/"
        },
        "id": "C3Huy3LYeK4L",
        "outputId": "0067d579-2747-4a20-e919-b41719f2844d"
      },
      "source": [
        "li1.append(li)\n",
        "print(li1)\n",
        "print(li1.__sizeof__())"
      ],
      "execution_count": 30,
      "outputs": [
        {
          "output_type": "stream",
          "text": [
            "['a', 'b', 'c', 'd', 'e', 'f', 7, [1, 2, 3, 4]]\n",
            "104\n"
          ],
          "name": "stdout"
        }
      ]
    },
    {
      "cell_type": "code",
      "metadata": {
        "colab": {
          "base_uri": "https://localhost:8080/"
        },
        "id": "GCjh4NafeSBn",
        "outputId": "d6e52478-0984-496a-ea04-82e3dd97cfd3"
      },
      "source": [
        "li1.append(li)\n",
        "print(li1)\n",
        "print(li1.__sizeof__())"
      ],
      "execution_count": 31,
      "outputs": [
        {
          "output_type": "stream",
          "text": [
            "['a', 'b', 'c', 'd', 'e', 'f', 7, [1, 2, 3, 4], [1, 2, 3, 4]]\n",
            "168\n"
          ],
          "name": "stdout"
        }
      ]
    },
    {
      "cell_type": "markdown",
      "metadata": {
        "id": "XscfqYTpon22"
      },
      "source": [
        "#### remove a last element "
      ]
    },
    {
      "cell_type": "code",
      "metadata": {
        "colab": {
          "base_uri": "https://localhost:8080/"
        },
        "id": "lPmYsbnFepJW",
        "outputId": "a3dc2b2d-057f-4983-d929-bd04764b6ef9"
      },
      "source": [
        "li1.pop()\n",
        "print(li1)\n",
        "print(li1.__sizeof__())"
      ],
      "execution_count": 32,
      "outputs": [
        {
          "output_type": "stream",
          "text": [
            "['a', 'b', 'c', 'd', 'e', 'f', 7, [1, 2, 3, 4]]\n",
            "168\n"
          ],
          "name": "stdout"
        }
      ]
    },
    {
      "cell_type": "code",
      "metadata": {
        "colab": {
          "base_uri": "https://localhost:8080/"
        },
        "id": "hSHeXeGHetJc",
        "outputId": "46fbe2f3-53e3-44b6-afbf-0bd6943b7c29"
      },
      "source": [
        "li1.pop()\n",
        "print(li1)\n",
        "print(li1.__sizeof__())"
      ],
      "execution_count": 33,
      "outputs": [
        {
          "output_type": "stream",
          "text": [
            "['a', 'b', 'c', 'd', 'e', 'f', 7]\n",
            "120\n"
          ],
          "name": "stdout"
        }
      ]
    },
    {
      "cell_type": "markdown",
      "metadata": {
        "id": "gB3CrukporoN"
      },
      "source": [
        "#### Insert a new element at the position"
      ]
    },
    {
      "cell_type": "code",
      "metadata": {
        "colab": {
          "base_uri": "https://localhost:8080/"
        },
        "id": "qc3OzMfbfSMN",
        "outputId": "6ccadb96-2660-4ec6-fee7-5b1851d238e5"
      },
      "source": [
        "li1.insert(1,\"hello\")\n",
        "print(li1)"
      ],
      "execution_count": 34,
      "outputs": [
        {
          "output_type": "stream",
          "text": [
            "['a', 'hello', 'b', 'c', 'd', 'e', 'f', 7]\n"
          ],
          "name": "stdout"
        }
      ]
    },
    {
      "cell_type": "markdown",
      "metadata": {
        "id": "-DF9c0q6oxEL"
      },
      "source": [
        "#### Replace the element"
      ]
    },
    {
      "cell_type": "code",
      "metadata": {
        "colab": {
          "base_uri": "https://localhost:8080/"
        },
        "id": "vNhInecFfw35",
        "outputId": "ada1dcdc-f822-4534-dbb0-6e020d0ef418"
      },
      "source": [
        "li1[1] = \"welcome\"\n",
        "print(li1)"
      ],
      "execution_count": 36,
      "outputs": [
        {
          "output_type": "stream",
          "text": [
            "['a', 'welcome', 'b', 'c', 'd', 'e', 'f', 7]\n"
          ],
          "name": "stdout"
        }
      ]
    },
    {
      "cell_type": "markdown",
      "metadata": {
        "id": "RhmKIrsTbfk9"
      },
      "source": [
        "### Tuple\n",
        "declare as () or tuple()\n",
        "\n",
        "read the element by index like as tup[0]\n",
        "\n",
        "Immutable (no changes)"
      ]
    },
    {
      "cell_type": "code",
      "metadata": {
        "id": "WCg0ZvlfbS7U"
      },
      "source": [
        "tup = (5,6,7,8)"
      ],
      "execution_count": 6,
      "outputs": []
    },
    {
      "cell_type": "code",
      "metadata": {
        "colab": {
          "base_uri": "https://localhost:8080/"
        },
        "id": "hDjLpsQ3cER6",
        "outputId": "001ceb24-68dc-4be7-d0d4-81d0caa5bcd4"
      },
      "source": [
        "type(tup)"
      ],
      "execution_count": 7,
      "outputs": [
        {
          "output_type": "execute_result",
          "data": {
            "text/plain": [
              "tuple"
            ]
          },
          "metadata": {
            "tags": []
          },
          "execution_count": 7
        }
      ]
    },
    {
      "cell_type": "code",
      "metadata": {
        "colab": {
          "base_uri": "https://localhost:8080/"
        },
        "id": "Fd9H7CcKcFMb",
        "outputId": "8da7abe5-52f3-4d21-bfdb-49bb5a21483c"
      },
      "source": [
        "tup1 = ()\n",
        "print(tup1)\n",
        "print(tup1.__sizeof__())"
      ],
      "execution_count": 35,
      "outputs": [
        {
          "output_type": "stream",
          "text": [
            "()\n",
            "24\n"
          ],
          "name": "stdout"
        }
      ]
    },
    {
      "cell_type": "markdown",
      "metadata": {
        "id": "TtPkYLoeo6kw"
      },
      "source": [
        "#### Immutable"
      ]
    },
    {
      "cell_type": "code",
      "metadata": {
        "colab": {
          "base_uri": "https://localhost:8080/",
          "height": 161
        },
        "id": "9q6CuORxfrNP",
        "outputId": "25cd29ec-bc47-4b45-cf2d-2e4b2f8b5bc4"
      },
      "source": [
        "tup1[0]=\"hello\""
      ],
      "execution_count": 37,
      "outputs": [
        {
          "output_type": "error",
          "ename": "TypeError",
          "evalue": "ignored",
          "traceback": [
            "\u001b[0;31m---------------------------------------------------------------------------\u001b[0m",
            "\u001b[0;31mTypeError\u001b[0m                                 Traceback (most recent call last)",
            "\u001b[0;32m<ipython-input-37-538ef72e447f>\u001b[0m in \u001b[0;36m<module>\u001b[0;34m()\u001b[0m\n\u001b[0;32m----> 1\u001b[0;31m \u001b[0mtup1\u001b[0m\u001b[0;34m[\u001b[0m\u001b[0;36m0\u001b[0m\u001b[0;34m]\u001b[0m\u001b[0;34m=\u001b[0m\u001b[0;34m\"hello\"\u001b[0m\u001b[0;34m\u001b[0m\u001b[0;34m\u001b[0m\u001b[0m\n\u001b[0m",
            "\u001b[0;31mTypeError\u001b[0m: 'tuple' object does not support item assignment"
          ]
        }
      ]
    },
    {
      "cell_type": "code",
      "metadata": {
        "colab": {
          "base_uri": "https://localhost:8080/"
        },
        "id": "j1BpfYG3cUId",
        "outputId": "8a91fbbe-9e85-405e-eb1b-2bde381603ae"
      },
      "source": [
        "tup2 = (5,6,7,8)\n",
        "print(tup2)\n",
        "print(tup2.__sizeof__())"
      ],
      "execution_count": 38,
      "outputs": [
        {
          "output_type": "stream",
          "text": [
            "(5, 6, 7, 8)\n",
            "56\n"
          ],
          "name": "stdout"
        }
      ]
    },
    {
      "cell_type": "code",
      "metadata": {
        "colab": {
          "base_uri": "https://localhost:8080/"
        },
        "id": "VSoHb-LCgBIj",
        "outputId": "451dff57-114d-4664-92f9-dc7c42bf63bd"
      },
      "source": [
        "tup3 = ('a', 'b', 'c', 'd')\n",
        "print(tup3)\n",
        "print(tup3.__sizeof__())"
      ],
      "execution_count": 39,
      "outputs": [
        {
          "output_type": "stream",
          "text": [
            "('a', 'b', 'c', 'd')\n",
            "56\n"
          ],
          "name": "stdout"
        }
      ]
    },
    {
      "cell_type": "markdown",
      "metadata": {
        "id": "uP3ud4yhpWlw"
      },
      "source": [
        "#### Packing"
      ]
    },
    {
      "cell_type": "code",
      "metadata": {
        "id": "5fCiBxqLcVXC"
      },
      "source": [
        "w,x,y,z = tup3"
      ],
      "execution_count": 40,
      "outputs": []
    },
    {
      "cell_type": "code",
      "metadata": {
        "colab": {
          "base_uri": "https://localhost:8080/",
          "height": 35
        },
        "id": "rCdq8tA9g4Ko",
        "outputId": "4cc5b0e2-0ede-455a-97db-ac9e2d08045c"
      },
      "source": [
        "w"
      ],
      "execution_count": 41,
      "outputs": [
        {
          "output_type": "execute_result",
          "data": {
            "application/vnd.google.colaboratory.intrinsic+json": {
              "type": "string"
            },
            "text/plain": [
              "'a'"
            ]
          },
          "metadata": {
            "tags": []
          },
          "execution_count": 41
        }
      ]
    },
    {
      "cell_type": "code",
      "metadata": {
        "colab": {
          "base_uri": "https://localhost:8080/",
          "height": 35
        },
        "id": "8KQeu66Yg4wg",
        "outputId": "c179164a-0ace-48d0-ce01-f4bf207596e1"
      },
      "source": [
        "x"
      ],
      "execution_count": 42,
      "outputs": [
        {
          "output_type": "execute_result",
          "data": {
            "application/vnd.google.colaboratory.intrinsic+json": {
              "type": "string"
            },
            "text/plain": [
              "'b'"
            ]
          },
          "metadata": {
            "tags": []
          },
          "execution_count": 42
        }
      ]
    },
    {
      "cell_type": "code",
      "metadata": {
        "colab": {
          "base_uri": "https://localhost:8080/",
          "height": 35
        },
        "id": "qV-LFE1Qg53k",
        "outputId": "4eeed909-b707-4ba8-ca56-aa95fcd41b09"
      },
      "source": [
        "y"
      ],
      "execution_count": 43,
      "outputs": [
        {
          "output_type": "execute_result",
          "data": {
            "application/vnd.google.colaboratory.intrinsic+json": {
              "type": "string"
            },
            "text/plain": [
              "'c'"
            ]
          },
          "metadata": {
            "tags": []
          },
          "execution_count": 43
        }
      ]
    },
    {
      "cell_type": "code",
      "metadata": {
        "colab": {
          "base_uri": "https://localhost:8080/"
        },
        "id": "uAjfhb0qg6iz",
        "outputId": "effab4ab-f70f-477a-8b59-484fab7a687b"
      },
      "source": [
        "id(tup3[0])"
      ],
      "execution_count": 44,
      "outputs": [
        {
          "output_type": "execute_result",
          "data": {
            "text/plain": [
              "140136775960112"
            ]
          },
          "metadata": {
            "tags": []
          },
          "execution_count": 44
        }
      ]
    },
    {
      "cell_type": "code",
      "metadata": {
        "colab": {
          "base_uri": "https://localhost:8080/"
        },
        "id": "blelNLtUhIM0",
        "outputId": "54f515d2-cf06-4389-9012-2b71616420c5"
      },
      "source": [
        "id(w)"
      ],
      "execution_count": 45,
      "outputs": [
        {
          "output_type": "execute_result",
          "data": {
            "text/plain": [
              "140136775960112"
            ]
          },
          "metadata": {
            "tags": []
          },
          "execution_count": 45
        }
      ]
    },
    {
      "cell_type": "code",
      "metadata": {
        "colab": {
          "base_uri": "https://localhost:8080/"
        },
        "id": "ojiHDug1hMNK",
        "outputId": "ed78a99a-1b1d-47cb-81ff-3968043e0b53"
      },
      "source": [
        "print(tup3)"
      ],
      "execution_count": 46,
      "outputs": [
        {
          "output_type": "stream",
          "text": [
            "('a', 'b', 'c', 'd')\n"
          ],
          "name": "stdout"
        }
      ]
    },
    {
      "cell_type": "code",
      "metadata": {
        "colab": {
          "base_uri": "https://localhost:8080/"
        },
        "id": "eIp7mDKHhW0Q",
        "outputId": "d8f5ade1-e749-4833-b23c-4fa831663e70"
      },
      "source": [
        "print(w,x,y,z)"
      ],
      "execution_count": 47,
      "outputs": [
        {
          "output_type": "stream",
          "text": [
            "a b c d\n"
          ],
          "name": "stdout"
        }
      ]
    },
    {
      "cell_type": "code",
      "metadata": {
        "colab": {
          "base_uri": "https://localhost:8080/"
        },
        "id": "x9H9VH1phcQI",
        "outputId": "a23dfbfc-0577-42d0-d0a3-af9ac69fc457"
      },
      "source": [
        "type(w)"
      ],
      "execution_count": 48,
      "outputs": [
        {
          "output_type": "execute_result",
          "data": {
            "text/plain": [
              "str"
            ]
          },
          "metadata": {
            "tags": []
          },
          "execution_count": 48
        }
      ]
    },
    {
      "cell_type": "code",
      "metadata": {
        "colab": {
          "base_uri": "https://localhost:8080/",
          "height": 35
        },
        "id": "c6lDbsUchrML",
        "outputId": "39a30d25-f4fd-49fb-bfef-5f1df1ea26a3"
      },
      "source": [
        "w = w + \" hello\"\n",
        "w"
      ],
      "execution_count": 49,
      "outputs": [
        {
          "output_type": "execute_result",
          "data": {
            "application/vnd.google.colaboratory.intrinsic+json": {
              "type": "string"
            },
            "text/plain": [
              "'a hello'"
            ]
          },
          "metadata": {
            "tags": []
          },
          "execution_count": 49
        }
      ]
    },
    {
      "cell_type": "code",
      "metadata": {
        "colab": {
          "base_uri": "https://localhost:8080/"
        },
        "id": "81FmwLKEhvCt",
        "outputId": "dc9247a5-fc41-4882-d959-355af1fc1c4b"
      },
      "source": [
        "tup3"
      ],
      "execution_count": 50,
      "outputs": [
        {
          "output_type": "execute_result",
          "data": {
            "text/plain": [
              "('a', 'b', 'c', 'd')"
            ]
          },
          "metadata": {
            "tags": []
          },
          "execution_count": 50
        }
      ]
    },
    {
      "cell_type": "code",
      "metadata": {
        "colab": {
          "base_uri": "https://localhost:8080/",
          "height": 35
        },
        "id": "umEA7If9h17s",
        "outputId": "829d901d-0977-4a29-f3bd-fae0b2e5341d"
      },
      "source": [
        "tup3[0]"
      ],
      "execution_count": 51,
      "outputs": [
        {
          "output_type": "execute_result",
          "data": {
            "application/vnd.google.colaboratory.intrinsic+json": {
              "type": "string"
            },
            "text/plain": [
              "'a'"
            ]
          },
          "metadata": {
            "tags": []
          },
          "execution_count": 51
        }
      ]
    },
    {
      "cell_type": "code",
      "metadata": {
        "colab": {
          "base_uri": "https://localhost:8080/"
        },
        "id": "fW4KG1-QiAn5",
        "outputId": "abe33215-cbfb-4543-eeb4-110f3bd4a377"
      },
      "source": [
        "litup = list(tup3)\n",
        "litup"
      ],
      "execution_count": 52,
      "outputs": [
        {
          "output_type": "execute_result",
          "data": {
            "text/plain": [
              "['a', 'b', 'c', 'd']"
            ]
          },
          "metadata": {
            "tags": []
          },
          "execution_count": 52
        }
      ]
    },
    {
      "cell_type": "code",
      "metadata": {
        "colab": {
          "base_uri": "https://localhost:8080/"
        },
        "id": "kMa929GHjg2F",
        "outputId": "0ba1362b-d9f5-4261-f694-c92297e52b05"
      },
      "source": [
        "litup.insert(1, \"A\")\n",
        "litup"
      ],
      "execution_count": 53,
      "outputs": [
        {
          "output_type": "execute_result",
          "data": {
            "text/plain": [
              "['a', 'A', 'b', 'c', 'd']"
            ]
          },
          "metadata": {
            "tags": []
          },
          "execution_count": 53
        }
      ]
    },
    {
      "cell_type": "code",
      "metadata": {
        "colab": {
          "base_uri": "https://localhost:8080/"
        },
        "id": "WAlP_e1sjl4X",
        "outputId": "ea15bf24-7351-45de-b710-27b9d5ccca4c"
      },
      "source": [
        "tupli = tuple(litup)\n",
        "tupli"
      ],
      "execution_count": 55,
      "outputs": [
        {
          "output_type": "execute_result",
          "data": {
            "text/plain": [
              "('a', 'A', 'b', 'c', 'd')"
            ]
          },
          "metadata": {
            "tags": []
          },
          "execution_count": 55
        }
      ]
    },
    {
      "cell_type": "code",
      "metadata": {
        "id": "akYo3eW9kc4l"
      },
      "source": [
        "litup.append('a')"
      ],
      "execution_count": 62,
      "outputs": []
    },
    {
      "cell_type": "code",
      "metadata": {
        "colab": {
          "base_uri": "https://localhost:8080/"
        },
        "id": "d8Ia3DYckqjw",
        "outputId": "5fb60a74-c9df-477e-c309-30630a261208"
      },
      "source": [
        "litup"
      ],
      "execution_count": 63,
      "outputs": [
        {
          "output_type": "execute_result",
          "data": {
            "text/plain": [
              "['a', 'A', 'b', 'c', 'd', 'a']"
            ]
          },
          "metadata": {
            "tags": []
          },
          "execution_count": 63
        }
      ]
    },
    {
      "cell_type": "code",
      "metadata": {
        "colab": {
          "base_uri": "https://localhost:8080/"
        },
        "id": "s0tvvtzrkxbm",
        "outputId": "9da10fc9-e907-42e8-e4f4-0ea1f30bc572"
      },
      "source": [
        "litup.count(\"a\")"
      ],
      "execution_count": 64,
      "outputs": [
        {
          "output_type": "execute_result",
          "data": {
            "text/plain": [
              "2"
            ]
          },
          "metadata": {
            "tags": []
          },
          "execution_count": 64
        }
      ]
    },
    {
      "cell_type": "markdown",
      "metadata": {
        "id": "vQkMECn1piTC"
      },
      "source": [
        "### Reverse"
      ]
    },
    {
      "cell_type": "code",
      "metadata": {
        "colab": {
          "base_uri": "https://localhost:8080/"
        },
        "id": "YwyJjXiCk-EM",
        "outputId": "932305d7-19a7-4be8-c541-c7fd8b72c630"
      },
      "source": [
        "litup.reverse()\n",
        "litup"
      ],
      "execution_count": 86,
      "outputs": [
        {
          "output_type": "execute_result",
          "data": {
            "text/plain": [
              "['a', 'A', 'b', 'c', 'd', 'a']"
            ]
          },
          "metadata": {
            "tags": []
          },
          "execution_count": 86
        }
      ]
    },
    {
      "cell_type": "code",
      "metadata": {
        "colab": {
          "base_uri": "https://localhost:8080/"
        },
        "id": "i4yPhW_XpgbY",
        "outputId": "5ed75ac1-73a7-4f3e-828e-aa4a19c05519"
      },
      "source": [
        "litup.reverse()\n",
        "litup"
      ],
      "execution_count": 87,
      "outputs": [
        {
          "output_type": "execute_result",
          "data": {
            "text/plain": [
              "['a', 'd', 'c', 'b', 'A', 'a']"
            ]
          },
          "metadata": {
            "tags": []
          },
          "execution_count": 87
        }
      ]
    },
    {
      "cell_type": "code",
      "metadata": {
        "colab": {
          "base_uri": "https://localhost:8080/"
        },
        "id": "1cwnfn_slkLD",
        "outputId": "6ff8d185-27ed-4184-e2e2-d8a1171bf0dc"
      },
      "source": [
        "li"
      ],
      "execution_count": 69,
      "outputs": [
        {
          "output_type": "execute_result",
          "data": {
            "text/plain": [
              "[1, 2, 3, 4]"
            ]
          },
          "metadata": {
            "tags": []
          },
          "execution_count": 69
        }
      ]
    },
    {
      "cell_type": "code",
      "metadata": {
        "colab": {
          "base_uri": "https://localhost:8080/"
        },
        "id": "_WG6VSymlpf3",
        "outputId": "d683c39b-de57-4034-c813-13f1753465ca"
      },
      "source": [
        "li1"
      ],
      "execution_count": 70,
      "outputs": [
        {
          "output_type": "execute_result",
          "data": {
            "text/plain": [
              "['a', 'welcome', 'b', 'c', 'd', 'e', 'f', 7]"
            ]
          },
          "metadata": {
            "tags": []
          },
          "execution_count": 70
        }
      ]
    },
    {
      "cell_type": "code",
      "metadata": {
        "colab": {
          "base_uri": "https://localhost:8080/"
        },
        "id": "rWbQdV66lEsa",
        "outputId": "84585414-ca3b-4827-8af2-87f524f9e936"
      },
      "source": [
        "li1.append(li)\n",
        "li1"
      ],
      "execution_count": 71,
      "outputs": [
        {
          "output_type": "execute_result",
          "data": {
            "text/plain": [
              "['a', 'welcome', 'b', 'c', 'd', 'e', 'f', 7, [1, 2, 3, 4]]"
            ]
          },
          "metadata": {
            "tags": []
          },
          "execution_count": 71
        }
      ]
    },
    {
      "cell_type": "code",
      "metadata": {
        "colab": {
          "base_uri": "https://localhost:8080/"
        },
        "id": "PdVr_N_slsul",
        "outputId": "67754f4d-08b3-4fa8-fa3a-d960fc9514d1"
      },
      "source": [
        "li1.pop()"
      ],
      "execution_count": 72,
      "outputs": [
        {
          "output_type": "execute_result",
          "data": {
            "text/plain": [
              "[1, 2, 3, 4]"
            ]
          },
          "metadata": {
            "tags": []
          },
          "execution_count": 72
        }
      ]
    },
    {
      "cell_type": "code",
      "metadata": {
        "colab": {
          "base_uri": "https://localhost:8080/"
        },
        "id": "gYbIxuB6lvaA",
        "outputId": "8c5d8e3a-6737-4975-b157-e255cac8874c"
      },
      "source": [
        "li1"
      ],
      "execution_count": 73,
      "outputs": [
        {
          "output_type": "execute_result",
          "data": {
            "text/plain": [
              "['a', 'welcome', 'b', 'c', 'd', 'e', 'f', 7]"
            ]
          },
          "metadata": {
            "tags": []
          },
          "execution_count": 73
        }
      ]
    },
    {
      "cell_type": "markdown",
      "metadata": {
        "id": "M7Ya785YplSu"
      },
      "source": [
        "### Extend"
      ]
    },
    {
      "cell_type": "code",
      "metadata": {
        "colab": {
          "base_uri": "https://localhost:8080/"
        },
        "id": "x4aoUCUMlwCP",
        "outputId": "c0ab2980-44f3-46b7-8aff-065e31008ecd"
      },
      "source": [
        "li1.extend(li)\n",
        "li1"
      ],
      "execution_count": 74,
      "outputs": [
        {
          "output_type": "execute_result",
          "data": {
            "text/plain": [
              "['a', 'welcome', 'b', 'c', 'd', 'e', 'f', 7, 1, 2, 3, 4]"
            ]
          },
          "metadata": {
            "tags": []
          },
          "execution_count": 74
        }
      ]
    },
    {
      "cell_type": "code",
      "metadata": {
        "colab": {
          "base_uri": "https://localhost:8080/"
        },
        "id": "Jy6qmUfDl0E3",
        "outputId": "053437c5-178a-4034-cc1d-4bc552bf5bce"
      },
      "source": [
        "tup[0]"
      ],
      "execution_count": 75,
      "outputs": [
        {
          "output_type": "execute_result",
          "data": {
            "text/plain": [
              "5"
            ]
          },
          "metadata": {
            "tags": []
          },
          "execution_count": 75
        }
      ]
    },
    {
      "cell_type": "code",
      "metadata": {
        "colab": {
          "base_uri": "https://localhost:8080/"
        },
        "id": "70r4ylN6mco7",
        "outputId": "d50278b7-6ae7-47cc-f70f-d24fcc0d5a19"
      },
      "source": [
        "tup[1]"
      ],
      "execution_count": 76,
      "outputs": [
        {
          "output_type": "execute_result",
          "data": {
            "text/plain": [
              "6"
            ]
          },
          "metadata": {
            "tags": []
          },
          "execution_count": 76
        }
      ]
    },
    {
      "cell_type": "code",
      "metadata": {
        "colab": {
          "base_uri": "https://localhost:8080/"
        },
        "id": "DKWj-jmDmg5M",
        "outputId": "0de4957e-706e-4be7-943c-17399e8d40ff"
      },
      "source": [
        "add = tup[0] + tup[1]\n",
        "add"
      ],
      "execution_count": 77,
      "outputs": [
        {
          "output_type": "execute_result",
          "data": {
            "text/plain": [
              "11"
            ]
          },
          "metadata": {
            "tags": []
          },
          "execution_count": 77
        }
      ]
    },
    {
      "cell_type": "code",
      "metadata": {
        "id": "0_-M2-gYmkNk"
      },
      "source": [
        "tupx = tup + tup "
      ],
      "execution_count": 78,
      "outputs": []
    },
    {
      "cell_type": "code",
      "metadata": {
        "colab": {
          "base_uri": "https://localhost:8080/"
        },
        "id": "4moX6PhXmpsE",
        "outputId": "9b42aad1-fc3e-427e-e083-71f508741083"
      },
      "source": [
        "tupx"
      ],
      "execution_count": 79,
      "outputs": [
        {
          "output_type": "execute_result",
          "data": {
            "text/plain": [
              "(5, 6, 7, 8, 5, 6, 7, 8)"
            ]
          },
          "metadata": {
            "tags": []
          },
          "execution_count": 79
        }
      ]
    },
    {
      "cell_type": "code",
      "metadata": {
        "colab": {
          "base_uri": "https://localhost:8080/"
        },
        "id": "P_RWFwHQmqyA",
        "outputId": "66bba12d-3aef-410c-c66d-275672131620"
      },
      "source": [
        "tup"
      ],
      "execution_count": 80,
      "outputs": [
        {
          "output_type": "execute_result",
          "data": {
            "text/plain": [
              "(5, 6, 7, 8)"
            ]
          },
          "metadata": {
            "tags": []
          },
          "execution_count": 80
        }
      ]
    },
    {
      "cell_type": "code",
      "metadata": {
        "id": "9THTq5jZmtpL"
      },
      "source": [
        "li.reverse()"
      ],
      "execution_count": 83,
      "outputs": []
    },
    {
      "cell_type": "code",
      "metadata": {
        "colab": {
          "base_uri": "https://localhost:8080/"
        },
        "id": "KMyuXVTlnICU",
        "outputId": "15c7408c-5f1a-4cf3-c6c9-000cb80f3379"
      },
      "source": [
        "li"
      ],
      "execution_count": 84,
      "outputs": [
        {
          "output_type": "execute_result",
          "data": {
            "text/plain": [
              "[1, 2, 3, 4]"
            ]
          },
          "metadata": {
            "tags": []
          },
          "execution_count": 84
        }
      ]
    },
    {
      "cell_type": "code",
      "metadata": {
        "id": "jqO5UoiUnJjy"
      },
      "source": [
        ""
      ],
      "execution_count": null,
      "outputs": []
    }
  ]
}